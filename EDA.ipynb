{
  "nbformat": 4,
  "nbformat_minor": 0,
  "metadata": {
    "colab": {
      "provenance": [],
      "authorship_tag": "ABX9TyOB9MaLpmJsUI+6izlqVgg4",
      "include_colab_link": true
    },
    "kernelspec": {
      "name": "python3",
      "display_name": "Python 3"
    },
    "language_info": {
      "name": "python"
    }
  },
  "cells": [
    {
      "cell_type": "markdown",
      "metadata": {
        "id": "view-in-github",
        "colab_type": "text"
      },
      "source": [
        "<a href=\"https://colab.research.google.com/github/BSteiner1/Adversarial-Examples/blob/main/EDA.ipynb\" target=\"_parent\"><img src=\"https://colab.research.google.com/assets/colab-badge.svg\" alt=\"Open In Colab\"/></a>"
      ]
    },
    {
      "cell_type": "code",
      "execution_count": 1,
      "metadata": {
        "id": "gdzbrJMxEcuC"
      },
      "outputs": [],
      "source": [
        "import torch\n",
        "import torch.nn as nn\n",
        "import torch.optim as optim\n",
        "import torchvision\n",
        "import torch.nn.functional as F\n",
        "import torchvision.transforms as transforms\n",
        "from torch.utils.data import DataLoader\n",
        "\n",
        "import numpy as np\n",
        "from PIL import Image\n",
        "import matplotlib.pyplot as plt\n",
        "import matplotlib.gridspec as gridspec"
      ]
    },
    {
      "cell_type": "code",
      "source": [
        "!git clone https://github.com/BSteiner1/Adversarial-Examples"
      ],
      "metadata": {
        "colab": {
          "base_uri": "https://localhost:8080/"
        },
        "id": "nXZrUt78H-IY",
        "outputId": "32c2750a-e813-4c4d-f667-cb986168c6c2"
      },
      "execution_count": 2,
      "outputs": [
        {
          "output_type": "stream",
          "name": "stdout",
          "text": [
            "Cloning into 'Adversarial-Examples'...\n",
            "remote: Enumerating objects: 32, done.\u001b[K\n",
            "remote: Counting objects: 100% (32/32), done.\u001b[K\n",
            "remote: Compressing objects: 100% (24/24), done.\u001b[K\n",
            "remote: Total 32 (delta 7), reused 0 (delta 0), pack-reused 0\u001b[K\n",
            "Receiving objects: 100% (32/32), 100.91 KiB | 1.87 MiB/s, done.\n",
            "Resolving deltas: 100% (7/7), done.\n"
          ]
        }
      ]
    },
    {
      "cell_type": "code",
      "source": [
        "import os\n",
        "os.listdir('Adversarial-Examples/utils')"
      ],
      "metadata": {
        "colab": {
          "base_uri": "https://localhost:8080/"
        },
        "id": "uL3U9yEdJcN5",
        "outputId": "b094331c-74d5-49ca-c1d7-6f891d39eb68"
      },
      "execution_count": 3,
      "outputs": [
        {
          "output_type": "execute_result",
          "data": {
            "text/plain": [
              "['functions.py']"
            ]
          },
          "metadata": {},
          "execution_count": 3
        }
      ]
    },
    {
      "cell_type": "code",
      "source": [
        "from google.colab import drive\n",
        "\n",
        "%cd /content/Adversarial-Examples\n",
        "\n",
        "os.listdir()\n",
        "from utils.functions import *"
      ],
      "metadata": {
        "colab": {
          "base_uri": "https://localhost:8080/"
        },
        "id": "kMYGlWW6IHZ5",
        "outputId": "4dacb006-3b41-4c1d-9b1d-f3fb6f552d62"
      },
      "execution_count": 5,
      "outputs": [
        {
          "output_type": "stream",
          "name": "stdout",
          "text": [
            "/content/Adversarial-Examples\n"
          ]
        }
      ]
    },
    {
      "cell_type": "code",
      "source": [
        "import os\n",
        "os.listdir('utils')"
      ],
      "metadata": {
        "colab": {
          "base_uri": "https://localhost:8080/"
        },
        "id": "KZebCt3gIPV4",
        "outputId": "ed64c2ff-9819-4823-c4a6-753b52588266"
      },
      "execution_count": 6,
      "outputs": [
        {
          "output_type": "execute_result",
          "data": {
            "text/plain": [
              "['functions.py', '__pycache__']"
            ]
          },
          "metadata": {},
          "execution_count": 6
        }
      ]
    },
    {
      "cell_type": "code",
      "source": [],
      "metadata": {
        "id": "yiN1hrzhH-2P"
      },
      "execution_count": null,
      "outputs": []
    },
    {
      "cell_type": "code",
      "source": [
        "# Load Fashion MNIST dataset and apply transformations\n",
        "transform = transforms.Compose([transforms.ToTensor(), transforms.Normalize((0.5,), (0.5,))])\n",
        "train_dataset = torchvision.datasets.FashionMNIST(root='./data', train=True, download=True, transform=transform)\n",
        "test_dataset = torchvision.datasets.FashionMNIST(root='./data', train=False, download=True, transform=transform)\n",
        "\n",
        "# Create DataLoader for training and testing\n",
        "train_loader = DataLoader(train_dataset, batch_size=64, shuffle=True, num_workers=2)\n",
        "test_loader = DataLoader(test_dataset, batch_size=64, shuffle=False, num_workers=2)"
      ],
      "metadata": {
        "colab": {
          "base_uri": "https://localhost:8080/"
        },
        "id": "FUkpBcQOEeBU",
        "outputId": "a4b7a546-4907-4f57-ec64-7db728739459"
      },
      "execution_count": 7,
      "outputs": [
        {
          "output_type": "stream",
          "name": "stdout",
          "text": [
            "Downloading http://fashion-mnist.s3-website.eu-central-1.amazonaws.com/train-images-idx3-ubyte.gz\n",
            "Downloading http://fashion-mnist.s3-website.eu-central-1.amazonaws.com/train-images-idx3-ubyte.gz to ./data/FashionMNIST/raw/train-images-idx3-ubyte.gz\n"
          ]
        },
        {
          "output_type": "stream",
          "name": "stderr",
          "text": [
            "100%|██████████| 26421880/26421880 [00:01<00:00, 15505370.77it/s]\n"
          ]
        },
        {
          "output_type": "stream",
          "name": "stdout",
          "text": [
            "Extracting ./data/FashionMNIST/raw/train-images-idx3-ubyte.gz to ./data/FashionMNIST/raw\n",
            "\n",
            "Downloading http://fashion-mnist.s3-website.eu-central-1.amazonaws.com/train-labels-idx1-ubyte.gz\n",
            "Downloading http://fashion-mnist.s3-website.eu-central-1.amazonaws.com/train-labels-idx1-ubyte.gz to ./data/FashionMNIST/raw/train-labels-idx1-ubyte.gz\n"
          ]
        },
        {
          "output_type": "stream",
          "name": "stderr",
          "text": [
            "100%|██████████| 29515/29515 [00:00<00:00, 266514.42it/s]\n"
          ]
        },
        {
          "output_type": "stream",
          "name": "stdout",
          "text": [
            "Extracting ./data/FashionMNIST/raw/train-labels-idx1-ubyte.gz to ./data/FashionMNIST/raw\n",
            "\n",
            "Downloading http://fashion-mnist.s3-website.eu-central-1.amazonaws.com/t10k-images-idx3-ubyte.gz\n",
            "Downloading http://fashion-mnist.s3-website.eu-central-1.amazonaws.com/t10k-images-idx3-ubyte.gz to ./data/FashionMNIST/raw/t10k-images-idx3-ubyte.gz\n"
          ]
        },
        {
          "output_type": "stream",
          "name": "stderr",
          "text": [
            "100%|██████████| 4422102/4422102 [00:00<00:00, 4919563.55it/s]\n"
          ]
        },
        {
          "output_type": "stream",
          "name": "stdout",
          "text": [
            "Extracting ./data/FashionMNIST/raw/t10k-images-idx3-ubyte.gz to ./data/FashionMNIST/raw\n",
            "\n",
            "Downloading http://fashion-mnist.s3-website.eu-central-1.amazonaws.com/t10k-labels-idx1-ubyte.gz\n",
            "Downloading http://fashion-mnist.s3-website.eu-central-1.amazonaws.com/t10k-labels-idx1-ubyte.gz to ./data/FashionMNIST/raw/t10k-labels-idx1-ubyte.gz\n"
          ]
        },
        {
          "output_type": "stream",
          "name": "stderr",
          "text": [
            "100%|██████████| 5148/5148 [00:00<00:00, 13126004.25it/s]"
          ]
        },
        {
          "output_type": "stream",
          "name": "stdout",
          "text": [
            "Extracting ./data/FashionMNIST/raw/t10k-labels-idx1-ubyte.gz to ./data/FashionMNIST/raw\n",
            "\n"
          ]
        },
        {
          "output_type": "stream",
          "name": "stderr",
          "text": [
            "\n"
          ]
        }
      ]
    },
    {
      "cell_type": "code",
      "source": [
        "labels_dict = {0 : \"T-shirt/top\",\n",
        "               1 : \"Trouser\",\n",
        "               2 : \"Pullover\",\n",
        "               3 : \"Dress\",\n",
        "               4 : \"Coat\",\n",
        "               5 : \"Sandal\",\n",
        "               6 : \"Shirt\",\n",
        "               7 : \"Sneaker\",\n",
        "               8 : \"Bag\",\n",
        "               9 : \"Ankle boot\"}"
      ],
      "metadata": {
        "id": "lC9NbB6QEfRQ"
      },
      "execution_count": 8,
      "outputs": []
    },
    {
      "cell_type": "code",
      "source": [
        "# Define the CNN model using nn.Sequential\n",
        "model = nn.Sequential(\n",
        "    nn.Conv2d(1, 32, kernel_size=3, padding='same'),\n",
        "    nn.ReLU(),\n",
        "    nn.MaxPool2d(2,2),\n",
        "    nn.Conv2d(32, 64, kernel_size=3, padding='same'),\n",
        "    nn.ReLU(),\n",
        "    nn.MaxPool2d(2,2),\n",
        "    nn.Flatten(),\n",
        "    nn.Linear(3136, 128),\n",
        "    nn.ReLU(),\n",
        "    nn.Linear(128, 10)\n",
        ")"
      ],
      "metadata": {
        "id": "Md9ke9DHEhS4"
      },
      "execution_count": 16,
      "outputs": []
    },
    {
      "cell_type": "code",
      "source": [
        "from google.colab import drive\n",
        "drive.mount('/content/drive')"
      ],
      "metadata": {
        "colab": {
          "base_uri": "https://localhost:8080/"
        },
        "id": "87WuwUoiEjui",
        "outputId": "2add79a9-32a0-402a-e61d-9d3d18a9695b"
      },
      "execution_count": 10,
      "outputs": [
        {
          "output_type": "stream",
          "name": "stdout",
          "text": [
            "Mounted at /content/drive\n"
          ]
        }
      ]
    },
    {
      "cell_type": "code",
      "source": [
        "model.load_state_dict(torch.load('/content/drive/MyDrive/MA498/CNN_model.pth'))\n",
        "model.eval()  # Set the model to evaluation mode"
      ],
      "metadata": {
        "colab": {
          "base_uri": "https://localhost:8080/"
        },
        "id": "71fPa6qtEl65",
        "outputId": "db909f35-8334-4272-e7e7-4760258eb0e0"
      },
      "execution_count": 17,
      "outputs": [
        {
          "output_type": "execute_result",
          "data": {
            "text/plain": [
              "Sequential(\n",
              "  (0): Conv2d(1, 32, kernel_size=(3, 3), stride=(1, 1), padding=same)\n",
              "  (1): ReLU()\n",
              "  (2): MaxPool2d(kernel_size=2, stride=2, padding=0, dilation=1, ceil_mode=False)\n",
              "  (3): Conv2d(32, 64, kernel_size=(3, 3), stride=(1, 1), padding=same)\n",
              "  (4): ReLU()\n",
              "  (5): MaxPool2d(kernel_size=2, stride=2, padding=0, dilation=1, ceil_mode=False)\n",
              "  (6): Flatten(start_dim=1, end_dim=-1)\n",
              "  (7): Linear(in_features=3136, out_features=128, bias=True)\n",
              "  (8): ReLU()\n",
              "  (9): Linear(in_features=128, out_features=10, bias=True)\n",
              ")"
            ]
          },
          "metadata": {},
          "execution_count": 17
        }
      ]
    },
    {
      "cell_type": "code",
      "source": [
        "def adversarial_example_class(image, epsilon, gradient):\n",
        "\n",
        "  # Create adversarial image\n",
        "  adversarial_example = image + (epsilon * gradient.sign())\n",
        "  adversarial_output = model(adversarial_example.unsqueeze(0))\n",
        "  adversarial_prediction = torch.argmax(adversarial_output).item()\n",
        "\n",
        "  return adversarial_prediction"
      ],
      "metadata": {
        "id": "Xkv5A49EKpw3"
      },
      "execution_count": 19,
      "outputs": []
    },
    {
      "cell_type": "code",
      "source": [
        "def gen_adversarial_example(image, model):\n",
        "\n",
        "  # Keep gradients\n",
        "  image.requires_grad = True\n",
        "\n",
        "  # Original image class\n",
        "  output = model(image.unsqueeze(0))\n",
        "  original_prediction = torch.argmax(output).item()\n",
        "\n",
        "  # Calculate the loss\n",
        "  loss = F.cross_entropy(output, torch.tensor([original_prediction]))\n",
        "  model.zero_grad()\n",
        "\n",
        "  # Backward pass to compute the gradient of the loss with respect to the input image\n",
        "  loss.backward()\n",
        "  gradient = image.grad.data\n",
        "\n",
        "  # Increment epsilon until classification is wrong\n",
        "  epsilon = 0\n",
        "  while adversarial_example_class(image, epsilon, gradient) == original_prediction:\n",
        "    epsilon += 0.01\n",
        "    #print(epsilon)\n",
        "    if epsilon > 2:\n",
        "      return False\n",
        "\n",
        "  adversarial_example = image + (epsilon * gradient.sign())\n",
        "  adversarial_prediction = adversarial_example_class(image, epsilon, gradient)\n",
        "\n",
        "  return np.round(epsilon, 2), adversarial_example, adversarial_prediction"
      ],
      "metadata": {
        "id": "JH4A0ESXOO_h"
      },
      "execution_count": 20,
      "outputs": []
    },
    {
      "cell_type": "code",
      "source": [
        "def image_prediction_and_confidence(image, model):\n",
        "\n",
        "    output = model(image.unsqueeze(0))\n",
        "    prediction = torch.argmax(output).item()\n",
        "\n",
        "    # Get the confidence associated with the original prediction\n",
        "    image_probabilities = F.softmax(output, dim=1)\n",
        "    confidence = image_probabilities[0, prediction].item()\n",
        "\n",
        "    return prediction, confidence"
      ],
      "metadata": {
        "id": "2YE7pZmqOQL1"
      },
      "execution_count": 21,
      "outputs": []
    },
    {
      "cell_type": "code",
      "source": [
        "from collections import Counter\n",
        "import time\n",
        "import matplotlib.pyplot as plt"
      ],
      "metadata": {
        "id": "vKwKv5vwOsmW"
      },
      "execution_count": 22,
      "outputs": []
    },
    {
      "cell_type": "code",
      "source": [
        "adversarial_class_counter = Counter()"
      ],
      "metadata": {
        "id": "baTQFGq3OSsT"
      },
      "execution_count": 23,
      "outputs": []
    },
    {
      "cell_type": "code",
      "source": [
        "image = test_dataset[100][0]"
      ],
      "metadata": {
        "id": "UgoxXC1KOuzg"
      },
      "execution_count": 24,
      "outputs": []
    },
    {
      "cell_type": "code",
      "source": [
        "adversarial_image = gen_adversarial_example(image, model)[1]\n",
        "adversarial_prediction = image_prediction_and_confidence(adversarial_image, model)[0]"
      ],
      "metadata": {
        "id": "_dfprHTxO7b0"
      },
      "execution_count": 25,
      "outputs": []
    },
    {
      "cell_type": "code",
      "source": [
        "# Get the labels from the dataset\n",
        "labels = [label for _, label in test_dataset]\n",
        "\n",
        "# Use Counter to count the occurrences of each class\n",
        "class_distribution = Counter(labels)\n",
        "\n",
        "# Print the distribution\n",
        "for class_label, count in class_distribution.items():\n",
        "    print(f\"Class {class_label}: {count} samples\")"
      ],
      "metadata": {
        "colab": {
          "base_uri": "https://localhost:8080/"
        },
        "id": "dYyNmaiXPbfL",
        "outputId": "8d32b303-0c2e-45dc-90e5-7a5918e8d2fc"
      },
      "execution_count": 26,
      "outputs": [
        {
          "output_type": "stream",
          "name": "stdout",
          "text": [
            "Class 9: 1000 samples\n",
            "Class 2: 1000 samples\n",
            "Class 1: 1000 samples\n",
            "Class 6: 1000 samples\n",
            "Class 4: 1000 samples\n",
            "Class 5: 1000 samples\n",
            "Class 7: 1000 samples\n",
            "Class 3: 1000 samples\n",
            "Class 8: 1000 samples\n",
            "Class 0: 1000 samples\n"
          ]
        }
      ]
    },
    {
      "cell_type": "code",
      "source": [
        "# Get the first 500 images and their labels\n",
        "first_500 = [image for index, (image, label) in enumerate(test_dataset) if index < 1000]\n",
        "#first_100 = first_500[:300]"
      ],
      "metadata": {
        "id": "QS5jkiPlPogK"
      },
      "execution_count": null,
      "outputs": []
    },
    {
      "cell_type": "code",
      "source": [
        "np_count = 0"
      ],
      "metadata": {
        "id": "0lv75-5oZA9L"
      },
      "execution_count": null,
      "outputs": []
    },
    {
      "cell_type": "code",
      "source": [
        "for i in range(len(first_500)):\n",
        "  if gen_adversarial_example(first_500[i], model) == False:\n",
        "    print(\"Not possible: \", i)\n",
        "    np_count += 1\n",
        "  else:\n",
        "    adversarial_prediction = gen_adversarial_example(first_500[i], model)[2]\n",
        "    prediction = labels_dict[adversarial_prediction]\n",
        "    adversarial_class_counter.update({prediction: 1})"
      ],
      "metadata": {
        "colab": {
          "base_uri": "https://localhost:8080/"
        },
        "id": "AxuaGbkoP60C",
        "outputId": "5e5cb78b-d227-4b4a-aa44-f35bf90747b8"
      },
      "execution_count": null,
      "outputs": [
        {
          "output_type": "stream",
          "name": "stdout",
          "text": [
            "Not possible:  18\n",
            "Not possible:  30\n",
            "Not possible:  31\n",
            "Not possible:  58\n",
            "Not possible:  69\n",
            "Not possible:  78\n",
            "Not possible:  81\n",
            "Not possible:  209\n",
            "Not possible:  231\n",
            "Not possible:  256\n",
            "Not possible:  262\n",
            "Not possible:  320\n",
            "Not possible:  424\n",
            "Not possible:  429\n",
            "Not possible:  442\n",
            "Not possible:  443\n",
            "Not possible:  469\n",
            "Not possible:  492\n",
            "Not possible:  528\n",
            "Not possible:  533\n",
            "Not possible:  534\n",
            "Not possible:  568\n",
            "Not possible:  579\n",
            "Not possible:  598\n",
            "Not possible:  667\n",
            "Not possible:  675\n",
            "Not possible:  678\n",
            "Not possible:  682\n",
            "Not possible:  700\n",
            "Not possible:  748\n",
            "Not possible:  754\n",
            "Not possible:  797\n",
            "Not possible:  813\n",
            "Not possible:  850\n",
            "Not possible:  900\n",
            "Not possible:  922\n",
            "Not possible:  983\n"
          ]
        }
      ]
    },
    {
      "cell_type": "code",
      "source": [
        "adversarial_class_counter"
      ],
      "metadata": {
        "colab": {
          "base_uri": "https://localhost:8080/"
        },
        "id": "bOZRCahbWQy5",
        "outputId": "e04053b1-2a71-4943-edac-d16fcbd805dd"
      },
      "execution_count": null,
      "outputs": [
        {
          "output_type": "execute_result",
          "data": {
            "text/plain": [
              "Counter({'Sneaker': 167,\n",
              "         'T-shirt/top': 434,\n",
              "         'Pullover': 295,\n",
              "         'Coat': 213,\n",
              "         'Sandal': 186,\n",
              "         'Shirt': 519,\n",
              "         'Dress': 154,\n",
              "         'Ankle boot': 87,\n",
              "         'Trouser': 37,\n",
              "         'Bag': 152})"
            ]
          },
          "metadata": {},
          "execution_count": 118
        }
      ]
    },
    {
      "cell_type": "code",
      "source": [
        "print(\"Not possible: \", np_count/10,'%')"
      ],
      "metadata": {
        "colab": {
          "base_uri": "https://localhost:8080/"
        },
        "id": "s3bcP4qHZG7k",
        "outputId": "13f59f6e-2d8f-41cb-f102-83c510e03cd3"
      },
      "execution_count": null,
      "outputs": [
        {
          "output_type": "stream",
          "name": "stdout",
          "text": [
            "Not possible:  3.7 %\n"
          ]
        }
      ]
    },
    {
      "cell_type": "code",
      "source": [
        "# Sort the oounter\n",
        "sorted_counter = dict(sorted(adversarial_class_counter.items(), key=lambda item: item[1], reverse=True))\n",
        "# Extract labels and counts\n",
        "labels, counts = zip(*sorted_counter.items())\n",
        "\n",
        "# Plot the bar chart\n",
        "plt.figure(figsize=(10, 6))\n",
        "plt.bar(labels, counts, color='red')\n",
        "plt.xlabel('Clothing Class')\n",
        "plt.ylabel('Count')\n",
        "plt.title('Distribution of Adversarial Examples')\n",
        "plt.xticks(rotation=45, ha='right')  # Rotate x-axis labels for better visibility\n",
        "plt.tight_layout()\n",
        "\n",
        "# Show the plot\n",
        "plt.show()"
      ],
      "metadata": {
        "colab": {
          "base_uri": "https://localhost:8080/",
          "height": 607
        },
        "id": "z0zPUED3Wufm",
        "outputId": "a7396596-0566-48b9-df8a-90499cfcc505"
      },
      "execution_count": null,
      "outputs": [
        {
          "output_type": "display_data",
          "data": {
            "text/plain": [
              "<Figure size 1000x600 with 1 Axes>"
            ],
            "image/png": "[encoded data removed]"
          },
          "metadata": {}
        }
      ]
    },
    {
      "cell_type": "code",
      "source": [],
      "metadata": {
        "id": "nwnYwkLWY5DT"
      },
      "execution_count": null,
      "outputs": []
    },
    {
      "cell_type": "code",
      "source": [],
      "metadata": {
        "id": "FOyMobA-Imkr"
      },
      "execution_count": null,
      "outputs": []
    },
    {
      "cell_type": "markdown",
      "source": [
        "### Class Means"
      ],
      "metadata": {
        "id": "A-juvbfjIm8R"
      }
    },
    {
      "cell_type": "code",
      "source": [
        "# Unpack images and labels from the dataset\n",
        "images = [image for (image, label) in test_dataset]\n",
        "labels = [label for (image, label) in test_dataset]"
      ],
      "metadata": {
        "id": "wRz8OEpEIozw"
      },
      "execution_count": 134,
      "outputs": []
    },
    {
      "cell_type": "code",
      "source": [
        "# Initialize dictionaries to store sums and counts for each class\n",
        "sums_by_class = {label: None for label in set(labels)}\n",
        "counts_by_class = {label: 0 for label in set(labels)}"
      ],
      "metadata": {
        "id": "pR7qXiwfPWbd"
      },
      "execution_count": 135,
      "outputs": []
    },
    {
      "cell_type": "code",
      "source": [
        "# Accumulate sums and counts for each class\n",
        "for tensor, label in test_dataset:\n",
        "    if sums_by_class[label] is None:\n",
        "        sums_by_class[label] = torch.zeros_like(tensor)\n",
        "    sums_by_class[label] += tensor\n",
        "    counts_by_class[label] += 1\n",
        "\n",
        "# Calculate the mean input for each class along each component\n",
        "mean_input_by_class = {label: sums / counts_by_class[label] for label, sums in sums_by_class.items()}"
      ],
      "metadata": {
        "id": "Dy9OI0AhK5gw"
      },
      "execution_count": 136,
      "outputs": []
    },
    {
      "cell_type": "code",
      "source": [
        "def dist_from_mean(image, label, mean_image_dict):\n",
        "\n",
        "  mean_image = mean_image_dict[label]\n",
        "\n",
        "  euclidean_distance = torch.norm(mean_image - image)\n",
        "\n",
        "  return euclidean_distance.item()"
      ],
      "metadata": {
        "id": "Vq1a9BhPK53H"
      },
      "execution_count": 137,
      "outputs": []
    },
    {
      "cell_type": "code",
      "source": [
        "dist_from_mean(images[0], labels[0], mean_input_by_class)"
      ],
      "metadata": {
        "colab": {
          "base_uri": "https://localhost:8080/"
        },
        "id": "mL5h5OYIPaMr",
        "outputId": "d147b866-9ed0-42dd-99d6-d7089664e197"
      },
      "execution_count": 138,
      "outputs": [
        {
          "output_type": "execute_result",
          "data": {
            "text/plain": [
              "12.803854942321777"
            ]
          },
          "metadata": {},
          "execution_count": 138
        }
      ]
    },
    {
      "cell_type": "code",
      "source": [
        "gen_adversarial_example(images[0], model)[0]"
      ],
      "metadata": {
        "colab": {
          "base_uri": "https://localhost:8080/"
        },
        "id": "YuhuAjh7QMRZ",
        "outputId": "fcd85512-818f-4069-ef0d-fb7a7d72f394"
      },
      "execution_count": 139,
      "outputs": [
        {
          "output_type": "execute_result",
          "data": {
            "text/plain": [
              "0.15"
            ]
          },
          "metadata": {},
          "execution_count": 139
        }
      ]
    },
    {
      "cell_type": "code",
      "source": [
        "labels[0]"
      ],
      "metadata": {
        "colab": {
          "base_uri": "https://localhost:8080/"
        },
        "id": "huGlAeGfQy0r",
        "outputId": "a08d00f9-cab2-43d2-aa1f-88d643eeee8a"
      },
      "execution_count": 140,
      "outputs": [
        {
          "output_type": "execute_result",
          "data": {
            "text/plain": [
              "9"
            ]
          },
          "metadata": {},
          "execution_count": 140
        }
      ]
    },
    {
      "cell_type": "code",
      "source": [
        "images = images[:2000]"
      ],
      "metadata": {
        "id": "bfkge6PjRUlp"
      },
      "execution_count": 141,
      "outputs": []
    },
    {
      "cell_type": "code",
      "source": [
        "len(images)"
      ],
      "metadata": {
        "colab": {
          "base_uri": "https://localhost:8080/"
        },
        "id": "3b2oX0FcTC5O",
        "outputId": "aa49544f-2c03-40a4-b183-229158f579a4"
      },
      "execution_count": 143,
      "outputs": [
        {
          "output_type": "execute_result",
          "data": {
            "text/plain": [
              "2000"
            ]
          },
          "metadata": {},
          "execution_count": 143
        }
      ]
    },
    {
      "cell_type": "code",
      "source": [
        "epsilons = []\n",
        "dists = []\n",
        "\n",
        "for i in range(len(images)):\n",
        "  if labels[i] == 5:\n",
        "    eps = gen_adversarial_example(images[i], model)[0]\n",
        "    epsilons.append(eps)\n",
        "    dist = dist_from_mean(images[i], 5, mean_input_by_class)\n",
        "    dists.append(dist)"
      ],
      "metadata": {
        "id": "62QHGsw3Qlmo"
      },
      "execution_count": 149,
      "outputs": []
    },
    {
      "cell_type": "code",
      "source": [
        "dists"
      ],
      "metadata": {
        "colab": {
          "base_uri": "https://localhost:8080/"
        },
        "id": "UOcY8nEmSxUN",
        "outputId": "c9584964-c82c-48ea-dc11-f39a7b3559e5"
      },
      "execution_count": 132,
      "outputs": [
        {
          "output_type": "execute_result",
          "data": {
            "text/plain": [
              "[]"
            ]
          },
          "metadata": {},
          "execution_count": 132
        }
      ]
    },
    {
      "cell_type": "code",
      "source": [
        "# Plotting\n",
        "plt.scatter(dists, epsilons)\n",
        "\n",
        "# Adding labels and a legend\n",
        "plt.xlabel('X-axis')\n",
        "plt.ylabel('Y-axis')\n",
        "#plt.ylim(0, 0.4)\n",
        "plt.legend()\n",
        "\n",
        "# Display the plot\n",
        "plt.show()"
      ],
      "metadata": {
        "colab": {
          "base_uri": "https://localhost:8080/",
          "height": 466
        },
        "id": "72u_SjsFRMJd",
        "outputId": "788b08b2-66d5-4fa2-87eb-b5fd381e4e0a"
      },
      "execution_count": 151,
      "outputs": [
        {
          "output_type": "stream",
          "name": "stderr",
          "text": [
            "WARNING:matplotlib.legend:No artists with labels found to put in legend.  Note that artists whose label start with an underscore are ignored when legend() is called with no argument.\n"
          ]
        },
        {
          "output_type": "display_data",
          "data": {
            "text/plain": [
              "<Figure size 640x480 with 1 Axes>"
            ],
            "image/png": "[encoded data removed]"
          },
          "metadata": {}
        }
      ]
    },
    {
      "cell_type": "code",
      "source": [],
      "metadata": {
        "id": "VOK2zbezRn6i"
      },
      "execution_count": null,
      "outputs": []
    }
  ]
}