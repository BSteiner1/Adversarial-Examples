{
  "cells": [
    {
      "cell_type": "markdown",
      "metadata": {
        "id": "view-in-github",
        "colab_type": "text"
      },
      "source": [
        "<a href=\"https://colab.research.google.com/github/BSteiner1/Adversarial-Examples/blob/main/Notebooks/AdvExCNN.ipynb\" target=\"_parent\"><img src=\"https://colab.research.google.com/assets/colab-badge.svg\" alt=\"Open In Colab\"/></a>"
      ]
    },
    {
      "cell_type": "markdown",
      "metadata": {
        "id": "oQv96Bcw1hHU"
      },
      "source": [
        "### Import libraries"
      ]
    },
    {
      "cell_type": "code",
      "execution_count": 49,
      "metadata": {
        "id": "cPSk6WaqBlgr"
      },
      "outputs": [],
      "source": [
        "import torch\n",
        "import torch.nn as nn\n",
        "import torch.optim as optim\n",
        "import torchvision\n",
        "import torch.nn.functional as F\n",
        "import torchvision.transforms as transforms\n",
        "from torch.utils.data import DataLoader\n",
        "\n",
        "import numpy as np\n",
        "from PIL import Image\n",
        "import matplotlib.pyplot as plt\n",
        "import matplotlib.gridspec as gridspec"
      ]
    },
    {
      "cell_type": "markdown",
      "metadata": {
        "id": "3PBX8mW51lc0"
      },
      "source": [
        "### Download data"
      ]
    },
    {
      "cell_type": "code",
      "execution_count": 2,
      "metadata": {
        "colab": {
          "base_uri": "https://localhost:8080/"
        },
        "id": "2F8qMG-eBndx",
        "outputId": "9cc4f173-9159-4442-b7d8-99f409d2c1ec"
      },
      "outputs": [
        {
          "output_type": "stream",
          "name": "stdout",
          "text": [
            "Downloading http://fashion-mnist.s3-website.eu-central-1.amazonaws.com/train-images-idx3-ubyte.gz\n",
            "Downloading http://fashion-mnist.s3-website.eu-central-1.amazonaws.com/train-images-idx3-ubyte.gz to ./data/FashionMNIST/raw/train-images-idx3-ubyte.gz\n"
          ]
        },
        {
          "output_type": "stream",
          "name": "stderr",
          "text": [
            "100%|██████████| 26421880/26421880 [00:02<00:00, 11499491.91it/s]\n"
          ]
        },
        {
          "output_type": "stream",
          "name": "stdout",
          "text": [
            "Extracting ./data/FashionMNIST/raw/train-images-idx3-ubyte.gz to ./data/FashionMNIST/raw\n",
            "\n",
            "Downloading http://fashion-mnist.s3-website.eu-central-1.amazonaws.com/train-labels-idx1-ubyte.gz\n",
            "Downloading http://fashion-mnist.s3-website.eu-central-1.amazonaws.com/train-labels-idx1-ubyte.gz to ./data/FashionMNIST/raw/train-labels-idx1-ubyte.gz\n"
          ]
        },
        {
          "output_type": "stream",
          "name": "stderr",
          "text": [
            "100%|██████████| 29515/29515 [00:00<00:00, 213621.77it/s]\n"
          ]
        },
        {
          "output_type": "stream",
          "name": "stdout",
          "text": [
            "Extracting ./data/FashionMNIST/raw/train-labels-idx1-ubyte.gz to ./data/FashionMNIST/raw\n",
            "\n",
            "Downloading http://fashion-mnist.s3-website.eu-central-1.amazonaws.com/t10k-images-idx3-ubyte.gz\n",
            "Downloading http://fashion-mnist.s3-website.eu-central-1.amazonaws.com/t10k-images-idx3-ubyte.gz to ./data/FashionMNIST/raw/t10k-images-idx3-ubyte.gz\n"
          ]
        },
        {
          "output_type": "stream",
          "name": "stderr",
          "text": [
            "100%|██████████| 4422102/4422102 [00:01<00:00, 3783013.05it/s]\n"
          ]
        },
        {
          "output_type": "stream",
          "name": "stdout",
          "text": [
            "Extracting ./data/FashionMNIST/raw/t10k-images-idx3-ubyte.gz to ./data/FashionMNIST/raw\n",
            "\n",
            "Downloading http://fashion-mnist.s3-website.eu-central-1.amazonaws.com/t10k-labels-idx1-ubyte.gz\n",
            "Downloading http://fashion-mnist.s3-website.eu-central-1.amazonaws.com/t10k-labels-idx1-ubyte.gz to ./data/FashionMNIST/raw/t10k-labels-idx1-ubyte.gz\n"
          ]
        },
        {
          "output_type": "stream",
          "name": "stderr",
          "text": [
            "100%|██████████| 5148/5148 [00:00<00:00, 22100590.58it/s]\n"
          ]
        },
        {
          "output_type": "stream",
          "name": "stdout",
          "text": [
            "Extracting ./data/FashionMNIST/raw/t10k-labels-idx1-ubyte.gz to ./data/FashionMNIST/raw\n",
            "\n"
          ]
        }
      ],
      "source": [
        "# Load Fashion MNIST dataset and apply transformations\n",
        "transform = transforms.Compose([transforms.ToTensor(), transforms.Normalize((0.5,), (0.5,))])\n",
        "train_dataset = torchvision.datasets.FashionMNIST(root='./data', train=True, download=True, transform=transform)\n",
        "test_dataset = torchvision.datasets.FashionMNIST(root='./data', train=False, download=True, transform=transform)\n",
        "\n",
        "# Create DataLoader for training and testing\n",
        "train_loader = DataLoader(train_dataset, batch_size=64, shuffle=True, num_workers=2)\n",
        "test_loader = DataLoader(test_dataset, batch_size=64, shuffle=False, num_workers=2)"
      ]
    },
    {
      "cell_type": "markdown",
      "metadata": {
        "id": "GW280Qw_1nnf"
      },
      "source": [
        "### Class label dictionary"
      ]
    },
    {
      "cell_type": "code",
      "execution_count": 3,
      "metadata": {
        "id": "Y9ZdE_uMQ-m-"
      },
      "outputs": [],
      "source": [
        "labels_dict = {0 : \"T-shirt/top\",\n",
        "               1 : \"Trouser\",\n",
        "               2 : \"Pullover\",\n",
        "               3 : \"Dress\",\n",
        "               4 : \"Coat\",\n",
        "               5 : \"Sandal\",\n",
        "               6 : \"Shirt\",\n",
        "               7 : \"Sneaker\",\n",
        "               8 : \"Bag\",\n",
        "               9 : \"Ankle boot\"}"
      ]
    },
    {
      "cell_type": "markdown",
      "metadata": {
        "id": "vwe6hnXF1qnE"
      },
      "source": [
        "### Create model"
      ]
    },
    {
      "cell_type": "code",
      "execution_count": 4,
      "metadata": {
        "id": "yeyn5MbjBnbk"
      },
      "outputs": [],
      "source": [
        "# Define the CNN model using nn.Sequential\n",
        "model = nn.Sequential(\n",
        "    nn.Conv2d(1, 32, kernel_size=3, padding='same'),\n",
        "    nn.ReLU(),\n",
        "    nn.MaxPool2d(2,2),\n",
        "    nn.Conv2d(32, 64, kernel_size=3, padding='same'),\n",
        "    nn.ReLU(),\n",
        "    nn.MaxPool2d(2,2),\n",
        "    nn.Flatten(),\n",
        "    nn.Linear(3136, 128),\n",
        "    nn.ReLU(),\n",
        "    nn.Linear(128, 10)\n",
        ")"
      ]
    },
    {
      "cell_type": "code",
      "execution_count": 5,
      "metadata": {
        "id": "lZy0n1WyBxRx"
      },
      "outputs": [],
      "source": [
        "# Instantiate the loss function and optimizer\n",
        "criterion = nn.CrossEntropyLoss()\n",
        "optimizer = optim.Adam(model.parameters(), lr=0.002)"
      ]
    },
    {
      "cell_type": "markdown",
      "metadata": {
        "id": "uGRoMpdA1t4i"
      },
      "source": [
        "### Calculate model accuracy"
      ]
    },
    {
      "cell_type": "code",
      "execution_count": 6,
      "metadata": {
        "id": "m1CofTLpMIp_"
      },
      "outputs": [],
      "source": [
        "def accuracy(model, images, test_loader):\n",
        "\n",
        "  # Evaluation\n",
        "  model.eval()\n",
        "  correct = 0\n",
        "  total = 0\n",
        "\n",
        "  with torch.no_grad():\n",
        "      for images, labels in test_loader:\n",
        "          outputs = model(images)\n",
        "          _, predicted = torch.max(outputs.data, 1)\n",
        "          total += labels.size(0)\n",
        "          correct += (predicted == labels).sum().item()\n",
        "\n",
        "  accuracy = correct / total\n",
        "\n",
        "  return accuracy"
      ]
    },
    {
      "cell_type": "markdown",
      "metadata": {
        "id": "2TioSM-Y1w46"
      },
      "source": [
        "### Train Model"
      ]
    },
    {
      "cell_type": "code",
      "execution_count": 7,
      "metadata": {
        "colab": {
          "base_uri": "https://localhost:8080/"
        },
        "id": "UcUjfxEdByuu",
        "outputId": "12b565c5-b8f9-4ae3-99d4-98af2aad430e"
      },
      "outputs": [
        {
          "output_type": "stream",
          "name": "stdout",
          "text": [
            "Epoch [1/10], Loss: 0.3317437171936035\n",
            "Test Accuracy: 89.23%\n",
            "Epoch [2/10], Loss: 0.18958304822444916\n",
            "Test Accuracy: 89.89%\n",
            "Epoch [3/10], Loss: 0.23715651035308838\n",
            "Test Accuracy: 90.80%\n",
            "Epoch [4/10], Loss: 0.07966965436935425\n",
            "Test Accuracy: 91.57%\n",
            "Epoch [5/10], Loss: 0.22598052024841309\n",
            "Test Accuracy: 91.67%\n",
            "Epoch [6/10], Loss: 0.07238070666790009\n",
            "Test Accuracy: 90.80%\n",
            "Epoch [7/10], Loss: 0.03992364928126335\n",
            "Test Accuracy: 91.74%\n",
            "Epoch [8/10], Loss: 0.03903866931796074\n",
            "Test Accuracy: 91.61%\n",
            "Epoch [9/10], Loss: 0.06419950723648071\n",
            "Test Accuracy: 90.82%\n",
            "Epoch [10/10], Loss: 0.03465178608894348\n",
            "Test Accuracy: 91.30%\n"
          ]
        }
      ],
      "source": [
        "# Training loop\n",
        "num_epochs = 10\n",
        "for epoch in range(num_epochs):\n",
        "    for images, labels in train_loader:\n",
        "        optimizer.zero_grad()\n",
        "        outputs = model(images)\n",
        "        loss = criterion(outputs, labels)\n",
        "        loss.backward()\n",
        "        optimizer.step()\n",
        "\n",
        "    print(f'Epoch [{epoch + 1}/{num_epochs}], Loss: {loss.item()}')\n",
        "\n",
        "    acc = accuracy(model, images, test_loader)\n",
        "\n",
        "    print(f'Test Accuracy: {acc * 100:.2f}%')"
      ]
    },
    {
      "cell_type": "markdown",
      "metadata": {
        "id": "GxSCMZWAuBvJ"
      },
      "source": [
        "### Save model"
      ]
    },
    {
      "cell_type": "code",
      "execution_count": 8,
      "metadata": {
        "colab": {
          "base_uri": "https://localhost:8080/"
        },
        "id": "Jpb9nSiJOynz",
        "outputId": "bd793794-70e1-4141-e4c4-544b1d9a82e4"
      },
      "outputs": [
        {
          "output_type": "stream",
          "name": "stdout",
          "text": [
            "Mounted at /content/drive\n"
          ]
        }
      ],
      "source": [
        "from google.colab import drive\n",
        "drive.mount('/content/drive')"
      ]
    },
    {
      "cell_type": "code",
      "execution_count": 133,
      "metadata": {
        "id": "iSeuUBFOLBoL"
      },
      "outputs": [],
      "source": [
        "# Save the entire model\n",
        "torch.save(model.state_dict(), '/content/drive/MyDrive/MA498/CNN_model.pth')"
      ]
    },
    {
      "cell_type": "markdown",
      "metadata": {
        "id": "uBVOi6YPKqIE"
      },
      "source": [
        "### Get pre-trained model"
      ]
    },
    {
      "cell_type": "code",
      "execution_count": null,
      "metadata": {
        "colab": {
          "base_uri": "https://localhost:8080/"
        },
        "id": "JpPI3DZKKUl7",
        "outputId": "3b7fd1f8-1e3f-4328-ef14-0b20eab5077b"
      },
      "outputs": [
        {
          "data": {
            "text/plain": [
              "Sequential(\n",
              "  (0): Conv2d(1, 32, kernel_size=(2, 2), stride=(1, 1))\n",
              "  (1): ReLU()\n",
              "  (2): MaxPool2d(kernel_size=2, stride=2, padding=0, dilation=1, ceil_mode=False)\n",
              "  (3): Conv2d(32, 64, kernel_size=(2, 2), stride=(1, 1))\n",
              "  (4): ReLU()\n",
              "  (5): MaxPool2d(kernel_size=2, stride=2, padding=0, dilation=1, ceil_mode=False)\n",
              "  (6): Conv2d(64, 64, kernel_size=(2, 2), stride=(1, 1))\n",
              "  (7): ReLU()\n",
              "  (8): MaxPool2d(kernel_size=2, stride=2, padding=0, dilation=1, ceil_mode=False)\n",
              "  (9): Flatten(start_dim=1, end_dim=-1)\n",
              "  (10): Linear(in_features=256, out_features=64, bias=True)\n",
              "  (11): ReLU()\n",
              "  (12): Linear(in_features=64, out_features=32, bias=True)\n",
              "  (13): ReLU()\n",
              "  (14): Linear(in_features=32, out_features=10, bias=True)\n",
              ")"
            ]
          },
          "execution_count": 6,
          "metadata": {},
          "output_type": "execute_result"
        }
      ],
      "source": [
        "model.load_state_dict(torch.load('/content/drive/MyDrive/MA498/CNN_model.pth'))\n",
        "model.eval()  # Set the model to evaluation mode"
      ]
    },
    {
      "cell_type": "markdown",
      "metadata": {
        "id": "tQ--UXtYCbkV"
      },
      "source": [
        "### Adversarial Examples"
      ]
    },
    {
      "cell_type": "code",
      "execution_count": 10,
      "metadata": {
        "id": "CNV1DEslxCll"
      },
      "outputs": [],
      "source": [
        "def adversarial_example_class(image, epsilon):\n",
        "\n",
        "  gradient = image.grad.data\n",
        "\n",
        "  # Create adversarial image\n",
        "  adversarial_example = image + (epsilon * gradient.sign())\n",
        "  adversarial_output = model(adversarial_example.unsqueeze(0))\n",
        "  adversarial_prediction = torch.argmax(adversarial_output).item()\n",
        "\n",
        "  return adversarial_prediction"
      ]
    },
    {
      "cell_type": "code",
      "execution_count": 11,
      "metadata": {
        "id": "4M5TCbMawIev"
      },
      "outputs": [],
      "source": [
        "def gen_adversarial_example(image, model):\n",
        "\n",
        "  # Keep gradients\n",
        "  image.requires_grad = True\n",
        "\n",
        "  # Original image class\n",
        "  output = model(image.unsqueeze(0))\n",
        "  original_prediction = torch.argmax(output).item()\n",
        "\n",
        "  # Calculate the loss\n",
        "  loss = F.cross_entropy(output, torch.tensor([original_prediction]))\n",
        "  model.zero_grad()\n",
        "\n",
        "  # Backward pass to compute the gradient of the loss with respect to the input image\n",
        "  loss.backward()\n",
        "  gradient = image.grad.data\n",
        "\n",
        "  # Increment epsilon until classification is wrong\n",
        "  epsilon = 0\n",
        "  while adversarial_example_class(image, epsilon) == original_prediction:\n",
        "    epsilon += 0.01\n",
        "\n",
        "  adversarial_example = image + (epsilon * gradient.sign())\n",
        "\n",
        "  return np.round(epsilon, 2), adversarial_example"
      ]
    },
    {
      "cell_type": "code",
      "execution_count": 123,
      "metadata": {
        "id": "I-KDJVVlfoGm"
      },
      "outputs": [],
      "source": [
        "def plot_adv_example(image, model):\n",
        "\n",
        "    # Original Prediction\n",
        "    output = model(image.unsqueeze(0))\n",
        "    original_prediction = torch.argmax(output).item()\n",
        "\n",
        "    # Get the confidence associated with the original prediction\n",
        "    image_probabilities = F.softmax(output, dim=1)\n",
        "    confidence = image_probabilities[0, original_prediction].item()\n",
        "\n",
        "    # Adversarial prediction\n",
        "    eps, adversarial_image = gen_adversarial_example(image, model)\n",
        "\n",
        "    # Verify the model's prediction on the adversarial example\n",
        "    adversarial_output = model(adversarial_image.unsqueeze(0))\n",
        "    adversarial_prediction = torch.argmax(adversarial_output).item()\n",
        "\n",
        "    # Get the confidence associated with the adversarial prediction\n",
        "    adv_image_probabilities = F.softmax(adversarial_output, dim=1)\n",
        "    adv_confidence = adv_image_probabilities[0, adversarial_prediction].item()\n",
        "\n",
        "    # Convert tensor to numpy arrays\n",
        "    original_image_np = image.squeeze().detach().numpy()\n",
        "    adversarial_image_np = adversarial_image.squeeze().detach().numpy()\n",
        "\n",
        "    # Display the original and adversarial images side by side\n",
        "    fig, axes = plt.subplots(1, 3, figsize=(12, 4))\n",
        "    plt.subplots_adjust(wspace=1, right=0.5)\n",
        "\n",
        "    # Original Image\n",
        "    axes[0].imshow(original_image_np, cmap='gray')\n",
        "    axes[0].set_title('Original')\n",
        "    axes[0].set_xlabel(f'{labels_dict[original_prediction]}\\n{confidence*100:.1f}%')\n",
        "    axes[0].set_xticks([])\n",
        "    axes[0].set_yticks([])\n",
        "\n",
        "    # Noise\n",
        "    noise = adversarial_image - image\n",
        "    grad = noise/eps\n",
        "    noise_output = model(grad.unsqueeze(0))\n",
        "    noise_prediction = torch.argmax(noise_output).item()\n",
        "    noise_np = noise.squeeze().detach().numpy()\n",
        "\n",
        "    # Get the confidence associated with the noise prediction\n",
        "    noise_probabilities = F.softmax(noise_output, dim=1)\n",
        "    noise_confidence = noise_probabilities[0, noise_prediction].item()\n",
        "\n",
        "    axes[1].imshow(noise_np, cmap='gray')\n",
        "    axes[1].set_title('Noise')\n",
        "    axes[1].set_xlabel(f'{labels_dict[noise_prediction]}\\n{noise_confidence*100:.1f}%')\n",
        "    axes[1].set_xticks([])\n",
        "    axes[1].set_yticks([])\n",
        "\n",
        "    # Adversarial Example\n",
        "    axes[2].imshow(adversarial_image_np, cmap='gray')\n",
        "    axes[2].set_title('Adversarial')\n",
        "    axes[2].set_xlabel(f'{labels_dict[adversarial_prediction]}\\n{adv_confidence*100:.1f}%')\n",
        "    axes[2].set_xticks([])\n",
        "    axes[2].set_yticks([])\n",
        "\n",
        "    # Add a simple plus sign between the images\n",
        "    axes[0].text(1.58, 0.5, '+   ' + str(eps) + ' x', ha=\"center\", va=\"center\", fontsize=10, transform=axes[0].transAxes)\n",
        "    #axes[0].text(1.8, 0.5, '(' + str(eps) + ') x ', ha=\"center\", va=\"center\", fontsize=2, transform=axes[0].transAxes)\n",
        "    axes[1].text(1.5, 0.5, '=', ha=\"center\", va=\"center\", fontsize=20, transform=axes[1].transAxes)\n",
        "\n",
        "    plt.show()\n",
        "\n",
        "    #print(\"Epsilon: \", eps)"
      ]
    },
    {
      "cell_type": "code",
      "source": [
        "indices = [310, 1900, 2320, 2500]"
      ],
      "metadata": {
        "id": "TUpVdoRRUa8x"
      },
      "execution_count": 131,
      "outputs": []
    },
    {
      "cell_type": "code",
      "execution_count": 136,
      "metadata": {
        "id": "7I-QhCrx04oT",
        "colab": {
          "base_uri": "https://localhost:8080/",
          "height": 758
        },
        "outputId": "d9fedbea-abe6-485d-a6f0-6fa304250098"
      },
      "outputs": [
        {
          "output_type": "display_data",
          "data": {
            "text/plain": [
              "<Figure size 1200x400 with 3 Axes>"
            ],
            "image/png": "[encoded data removed]"
          },
          "metadata": {}
        },
        {
          "output_type": "stream",
          "name": "stdout",
          "text": [
            "--------------------------------------------------------------\n"
          ]
        },
        {
          "output_type": "display_data",
          "data": {
            "text/plain": [
              "<Figure size 1200x400 with 3 Axes>"
            ],
            "image/png": "[encoded data removed]"
          },
          "metadata": {}
        },
        {
          "output_type": "stream",
          "name": "stdout",
          "text": [
            "--------------------------------------------------------------\n"
          ]
        },
        {
          "output_type": "display_data",
          "data": {
            "text/plain": [
              "<Figure size 1200x400 with 3 Axes>"
            ],
            "image/png": "[encoded data removed]"
          },
          "metadata": {}
        },
        {
          "output_type": "stream",
          "name": "stdout",
          "text": [
            "--------------------------------------------------------------\n"
          ]
        },
        {
          "output_type": "display_data",
          "data": {
            "text/plain": [
              "<Figure size 1200x400 with 3 Axes>"
            ],
            "image/png": "[encoded data removed]"
          },
          "metadata": {}
        },
        {
          "output_type": "stream",
          "name": "stdout",
          "text": [
            "--------------------------------------------------------------\n"
          ]
        }
      ],
      "source": [
        "for i in indices:\n",
        "  plot_adv_example(test_dataset[i][0], model)\n",
        "  print(\"--------------------------------------------------------------\")"
      ]
    },
    {
      "cell_type": "code",
      "source": [],
      "metadata": {
        "id": "FT_6uEDDUKk2"
      },
      "execution_count": null,
      "outputs": []
    }
  ],
  "metadata": {
    "accelerator": "GPU",
    "colab": {
      "provenance": [],
      "authorship_tag": "ABX9TyN37l8ugXuYgDmPygX1En9D",
      "include_colab_link": true
    },
    "kernelspec": {
      "display_name": "Python 3",
      "name": "python3"
    },
    "language_info": {
      "name": "python"
    }
  },
  "nbformat": 4,
  "nbformat_minor": 0
}