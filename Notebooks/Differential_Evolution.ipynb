{
  "nbformat": 4,
  "nbformat_minor": 0,
  "metadata": {
    "colab": {
      "provenance": [],
      "authorship_tag": "ABX9TyMLy1l32mWmTr8fpBXPMiv1",
      "include_colab_link": true
    },
    "kernelspec": {
      "name": "python3",
      "display_name": "Python 3"
    },
    "language_info": {
      "name": "python"
    }
  },
  "cells": [
    {
      "cell_type": "markdown",
      "metadata": {
        "id": "view-in-github",
        "colab_type": "text"
      },
      "source": [
        "<a href=\"https://colab.research.google.com/github/BSteiner1/Adversarial-Examples/blob/main/Notebooks/Differential_Evolution.ipynb\" target=\"_parent\"><img src=\"https://colab.research.google.com/assets/colab-badge.svg\" alt=\"Open In Colab\"/></a>"
      ]
    },
    {
      "cell_type": "code",
      "execution_count": 358,
      "metadata": {
        "id": "zczVmr6bB0mg"
      },
      "outputs": [],
      "source": [
        "import torch\n",
        "import torch.nn as nn\n",
        "import torch.optim as optim\n",
        "import torchvision\n",
        "import torch.nn.functional as F\n",
        "import torchvision.transforms as transforms\n",
        "from torch.utils.data import DataLoader\n",
        "\n",
        "import numpy as np\n",
        "from PIL import Image\n",
        "import matplotlib.pyplot as plt\n",
        "import matplotlib.gridspec as gridspec\n",
        "import random\n",
        "from matplotlib.patches import Circle"
      ]
    },
    {
      "cell_type": "code",
      "source": [
        "# Load Fashion MNIST dataset and apply transformations\n",
        "transform = transforms.Compose([transforms.ToTensor(), transforms.Normalize((0.5,), (0.5,))])\n",
        "train_dataset = torchvision.datasets.FashionMNIST(root='./data', train=True, download=True, transform=transform)\n",
        "test_dataset = torchvision.datasets.FashionMNIST(root='./data', train=False, download=True, transform=transform)\n",
        "\n",
        "# Create DataLoader for training and testing\n",
        "train_loader = DataLoader(train_dataset, batch_size=64, shuffle=True, num_workers=2)\n",
        "test_loader = DataLoader(test_dataset, batch_size=64, shuffle=False, num_workers=2)"
      ],
      "metadata": {
        "id": "8czhudR2B7Wg"
      },
      "execution_count": 129,
      "outputs": []
    },
    {
      "cell_type": "code",
      "source": [
        "labels_dict = {0 : \"T-shirt/top\",\n",
        "               1 : \"Trouser\",\n",
        "               2 : \"Pullover\",\n",
        "               3 : \"Dress\",\n",
        "               4 : \"Coat\",\n",
        "               5 : \"Sandal\",\n",
        "               6 : \"Shirt\",\n",
        "               7 : \"Sneaker\",\n",
        "               8 : \"Bag\",\n",
        "               9 : \"Ankle boot\"}"
      ],
      "metadata": {
        "id": "WanMVb8TB8mw"
      },
      "execution_count": 130,
      "outputs": []
    },
    {
      "cell_type": "code",
      "source": [
        "def prediction_and_confidence(image, model):\n",
        "\n",
        "    output = model(image.unsqueeze(0))\n",
        "    prediction = torch.argmax(output).item()\n",
        "\n",
        "    # Get the confidence associated with the original prediction\n",
        "    image_probabilities = F.softmax(output, dim=1)\n",
        "    confidence = image_probabilities[0, prediction].item()\n",
        "\n",
        "    return prediction, confidence"
      ],
      "metadata": {
        "id": "mUs7oYIIR5bL"
      },
      "execution_count": 388,
      "outputs": []
    },
    {
      "cell_type": "code",
      "source": [
        "def image_confidence(image, model, label):\n",
        "\n",
        "    model.eval()\n",
        "\n",
        "    with torch.no_grad():\n",
        "        output = model(image.unsqueeze(0))\n",
        "\n",
        "    # Get the confidence associated with the original prediction\n",
        "    image_probabilities = F.softmax(output, dim=1)\n",
        "    confidence = image_probabilities[0][label].item()\n",
        "\n",
        "    #print(label)\n",
        "    #print(image_probabilities)\n",
        "\n",
        "    return confidence"
      ],
      "metadata": {
        "id": "TBNUP-kzcSZ_"
      },
      "execution_count": 79,
      "outputs": []
    },
    {
      "cell_type": "code",
      "source": [
        "def apply_mutation(image, mutation):\n",
        "\n",
        "    x, y, p = mutation\n",
        "\n",
        "    image[0][int(x)][int(y)] = p\n",
        "\n",
        "    return image"
      ],
      "metadata": {
        "id": "y97-ArBdr5TK"
      },
      "execution_count": 300,
      "outputs": []
    },
    {
      "cell_type": "code",
      "source": [
        "# Define the CNN model using nn.Sequential\n",
        "model = nn.Sequential(\n",
        "    nn.Conv2d(1, 32, kernel_size=3, padding='same'),\n",
        "    nn.ReLU(),\n",
        "    nn.MaxPool2d(2,2),\n",
        "    nn.Conv2d(32, 64, kernel_size=3, padding='same'),\n",
        "    nn.ReLU(),\n",
        "    nn.MaxPool2d(2,2),\n",
        "    nn.Flatten(),\n",
        "    nn.Linear(3136, 128),\n",
        "    nn.ReLU(),\n",
        "    nn.Linear(128, 10)\n",
        ")"
      ],
      "metadata": {
        "id": "kcWQYQS4B-Xd"
      },
      "execution_count": 11,
      "outputs": []
    },
    {
      "cell_type": "code",
      "source": [
        "from google.colab import drive\n",
        "drive.mount('/content/drive')"
      ],
      "metadata": {
        "colab": {
          "base_uri": "https://localhost:8080/"
        },
        "id": "BxZlaOEsCAcM",
        "outputId": "7ed429ff-b1ce-4b37-9726-966c43330388"
      },
      "execution_count": 12,
      "outputs": [
        {
          "output_type": "stream",
          "name": "stdout",
          "text": [
            "Drive already mounted at /content/drive; to attempt to forcibly remount, call drive.mount(\"/content/drive\", force_remount=True).\n"
          ]
        }
      ]
    },
    {
      "cell_type": "code",
      "source": [
        "model.load_state_dict(torch.load('/content/drive/MyDrive/MA498/CNN_model.pth'))\n",
        "model.eval()  # Set the model to evaluation mode"
      ],
      "metadata": {
        "colab": {
          "base_uri": "https://localhost:8080/"
        },
        "id": "eZNRvOMkCLj8",
        "outputId": "3d30551b-2a67-4d9d-e2b7-ada80fc37c31"
      },
      "execution_count": 13,
      "outputs": [
        {
          "output_type": "execute_result",
          "data": {
            "text/plain": [
              "Sequential(\n",
              "  (0): Conv2d(1, 32, kernel_size=(3, 3), stride=(1, 1), padding=same)\n",
              "  (1): ReLU()\n",
              "  (2): MaxPool2d(kernel_size=2, stride=2, padding=0, dilation=1, ceil_mode=False)\n",
              "  (3): Conv2d(32, 64, kernel_size=(3, 3), stride=(1, 1), padding=same)\n",
              "  (4): ReLU()\n",
              "  (5): MaxPool2d(kernel_size=2, stride=2, padding=0, dilation=1, ceil_mode=False)\n",
              "  (6): Flatten(start_dim=1, end_dim=-1)\n",
              "  (7): Linear(in_features=3136, out_features=128, bias=True)\n",
              "  (8): ReLU()\n",
              "  (9): Linear(in_features=128, out_features=10, bias=True)\n",
              ")"
            ]
          },
          "metadata": {},
          "execution_count": 13
        }
      ]
    },
    {
      "cell_type": "code",
      "source": [
        "def differential_evolution(tensor, model):\n",
        "\n",
        "  model.eval()\n",
        "  image, label = tensor\n",
        "\n",
        "  population = [np.array([random.randint(0,27), random.randint(0,27), random.uniform(-1,1)]) for _ in range(1000)]\n",
        "\n",
        "  for iter in range(10):\n",
        "      if iter % 5 == 0:\n",
        "        print(iter)\n",
        "      for j in range(1000):\n",
        "\n",
        "          parent_mutation = population[j]\n",
        "          candidates = [i for i in range(1000) if i != j]\n",
        "          a, b, c = np.random.choice(candidates, 3, replace=False)\n",
        "\n",
        "          # Create mutant vector and clip if necessary\n",
        "          child_mutation = population[a] + 0.2 * (population[b] - population[c])\n",
        "          child_mutation[:2] = np.round(child_mutation[:2]).astype(int)\n",
        "          child_mutation = np.clip(child_mutation, [0, 0, -1.], [27, 27, 1.])\n",
        "\n",
        "          parent = image.clone()\n",
        "          child = image.detach().clone()\n",
        "\n",
        "          parent = apply_mutation(parent, parent_mutation)\n",
        "          child = apply_mutation(child, child_mutation)\n",
        "\n",
        "          def fitness(parent, child, label):\n",
        "              parent_confidence =  image_confidence(parent, model, label)\n",
        "              child_confidence =  image_confidence(child, model, label)\n",
        "\n",
        "              if child_confidence < parent_confidence:\n",
        "                swap = True\n",
        "                # if random.uniform(0,1) < 0.02:\n",
        "                #   print(child_confidence)\n",
        "                return child, swap\n",
        "              else:\n",
        "                swap = False\n",
        "                return parent, swap\n",
        "\n",
        "          fittest, swap = fitness(parent, child, label)\n",
        "          if swap == True:\n",
        "            population[j] = child_mutation\n",
        "          else:\n",
        "            None\n",
        "\n",
        "  return population"
      ],
      "metadata": {
        "id": "Tctd1MUMCXqU"
      },
      "execution_count": 708,
      "outputs": []
    },
    {
      "cell_type": "code",
      "source": [
        "num = 500\n",
        "img = test_dataset[num]"
      ],
      "metadata": {
        "id": "MJzneWXAKVMH"
      },
      "execution_count": 709,
      "outputs": []
    },
    {
      "cell_type": "code",
      "source": [
        "solution = differential_evolution(img, model)"
      ],
      "metadata": {
        "colab": {
          "base_uri": "https://localhost:8080/"
        },
        "id": "YgbOTK-PKIlb",
        "outputId": "03992040-49fd-49f0-8b4d-c475efae362d"
      },
      "execution_count": 710,
      "outputs": [
        {
          "output_type": "stream",
          "name": "stdout",
          "text": [
            "0\n",
            "5\n"
          ]
        }
      ]
    },
    {
      "cell_type": "code",
      "source": [
        "def best_mutation(tensor, model, population):\n",
        "\n",
        "  model.eval()\n",
        "\n",
        "  image, label = tensor\n",
        "  image = image.numpy()\n",
        "\n",
        "  mutation = []\n",
        "  confidence = 1.\n",
        "  min_idx = 0\n",
        "\n",
        "  for idx, mut in enumerate(population):\n",
        "    x = apply_mutation(image, mut)\n",
        "    x = torch.tensor(x)\n",
        "    conf = image_confidence(x, model, label)\n",
        "    if conf < confidence:\n",
        "      confidence = conf\n",
        "      mutation = mut\n",
        "      min_idx = idx\n",
        "\n",
        "  return mutation"
      ],
      "metadata": {
        "id": "cJyLY0Mza5Ja"
      },
      "execution_count": 712,
      "outputs": []
    },
    {
      "cell_type": "code",
      "source": [
        "best = best_mutation(img, model, solution)\n",
        "best"
      ],
      "metadata": {
        "colab": {
          "base_uri": "https://localhost:8080/"
        },
        "id": "9_A2X8fqDoQY",
        "outputId": "4ab8c3ad-3b3b-4162-b430-17788cfb95f5"
      },
      "execution_count": 713,
      "outputs": [
        {
          "output_type": "stream",
          "name": "stdout",
          "text": [
            "0.9783871173858643\n",
            "0.9765783548355103\n",
            "0.9622029066085815\n",
            "0.9379023313522339\n",
            "0.9179463982582092\n",
            "0.8967089056968689\n",
            "0.8731885552406311\n",
            "0.8327346444129944\n",
            "0.8116668462753296\n",
            "0.7992762923240662\n",
            "0.7989267706871033\n",
            "0.753308117389679\n",
            "0.7001649737358093\n",
            "0.605876088142395\n",
            "0.5727195739746094\n",
            "0.5557454228401184\n",
            "0.5216553211212158\n",
            "0.4327668249607086\n",
            "0.3928174376487732\n",
            "0.3902682960033417\n",
            "0.362849622964859\n",
            "0.33582085371017456\n",
            "0.3047904670238495\n",
            "0.3028565049171448\n",
            "0.23958976566791534\n",
            "0.21367177367210388\n",
            "0.2006864994764328\n",
            "0.18370327353477478\n",
            "0.16271764039993286\n",
            "0.14574779570102692\n",
            "0.10870053619146347\n",
            "0.10188069194555283\n",
            "0.09122731536626816\n",
            "0.050451867282390594\n",
            "0.04899926483631134\n",
            "0.03977945074439049\n",
            "0.035264983773231506\n",
            "0.03466720134019852\n",
            "0.027842063456773758\n",
            "0.024445880204439163\n",
            "0.024426789954304695\n",
            "0.02420492097735405\n",
            "0.023723114281892776\n",
            "0.02224365808069706\n",
            "0.02161356434226036\n",
            "0.021586937829852104\n",
            "0.02113720029592514\n",
            "0.019109295681118965\n",
            "0.01715659350156784\n",
            "0.014490197412669659\n",
            "0.014280162751674652\n",
            "0.0121434535831213\n",
            "0.010283224284648895\n",
            "0.010109198279678822\n",
            "0.00939271878451109\n",
            "0.009348679333925247\n",
            "0.00929534062743187\n",
            "0.009139452129602432\n",
            "0.008617144078016281\n",
            "0.007701020687818527\n",
            "0.007514732889831066\n",
            "0.0068598962388932705\n",
            "0.006327555514872074\n",
            "0.006321112625300884\n",
            "0.00453709764406085\n",
            "0.004216364584863186\n",
            "0.004187766462564468\n",
            "0.0036599745508283377\n",
            "0.003654003143310547\n",
            "0.0034890740644186735\n",
            "0.0034815906547009945\n",
            "0.0031982806976884604\n",
            "0.002915894379839301\n",
            "0.0029121332336217165\n",
            "0.0029066253919154406\n",
            "0.0024276371113955975\n",
            "0.002372767310589552\n",
            "0.0022619699593633413\n",
            "0.0022517454344779253\n",
            "0.002215397311374545\n",
            "0.00218955148011446\n",
            "0.0020015512127429247\n",
            "0.002001382876187563\n",
            "0.001978064887225628\n",
            "0.0018628035904839635\n",
            "0.0018097948050126433\n",
            "0.0018043797463178635\n",
            "0.0017483039991930127\n",
            "0.0017144547309726477\n",
            "0.001640214235521853\n",
            "0.001339460606686771\n",
            "0.0011698976159095764\n",
            "0.0011658516013994813\n",
            "0.0011435936903581023\n",
            "0.0011386018013581634\n",
            "0.0010993578471243382\n",
            "0.0010255376109853387\n",
            "0.0009388192556798458\n",
            "0.0009341784752905369\n",
            "0.0008952670614235103\n",
            "0.0008409463334828615\n",
            "0.0006253830506466329\n",
            "0.0006023821770213544\n",
            "0.0006010950310155749\n",
            "0.0005945939337834716\n",
            "0.0005933642387390137\n",
            "0.0005784479435533285\n",
            "0.0005408536526374519\n",
            "0.00037850026274099946\n",
            "0.00037686777068302035\n",
            "0.00037347935722209513\n"
          ]
        },
        {
          "output_type": "execute_result",
          "data": {
            "text/plain": [
              "array([25., 17.,  1.])"
            ]
          },
          "metadata": {},
          "execution_count": 713
        }
      ]
    },
    {
      "cell_type": "code",
      "source": [
        "img = test_dataset[num]"
      ],
      "metadata": {
        "id": "B0zIfL_0EKlr"
      },
      "execution_count": 714,
      "outputs": []
    },
    {
      "cell_type": "code",
      "source": [
        "labels_dict[img[1]]"
      ],
      "metadata": {
        "colab": {
          "base_uri": "https://localhost:8080/",
          "height": 36
        },
        "id": "KzJR_smbdxJj",
        "outputId": "4cc33578-b9a4-41b7-f253-5612a62a0fab"
      },
      "execution_count": 715,
      "outputs": [
        {
          "output_type": "execute_result",
          "data": {
            "text/plain": [
              "'Pullover'"
            ],
            "application/vnd.google.colaboratory.intrinsic+json": {
              "type": "string"
            }
          },
          "metadata": {},
          "execution_count": 715
        }
      ]
    },
    {
      "cell_type": "code",
      "source": [
        "image_confidence(img[0], model, img[1])"
      ],
      "metadata": {
        "colab": {
          "base_uri": "https://localhost:8080/"
        },
        "id": "CTWWMc2PWEu6",
        "outputId": "3736ffc8-738a-4dad-9410-428d46e4a5bc"
      },
      "execution_count": 716,
      "outputs": [
        {
          "output_type": "execute_result",
          "data": {
            "text/plain": [
              "0.9840177893638611"
            ]
          },
          "metadata": {},
          "execution_count": 716
        }
      ]
    },
    {
      "cell_type": "code",
      "source": [
        "# Plot the array using matplotlib\n",
        "plt.imshow(img[0][0], cmap='gray')  # Assuming grayscale values\n",
        "\n",
        "plt.axis('off')  # Turn off axis\n",
        "plt.title(\"True Label: \" + labels_dict[img[1]])\n",
        "plt.show()"
      ],
      "metadata": {
        "colab": {
          "base_uri": "https://localhost:8080/",
          "height": 428
        },
        "id": "Ley75Or-VzpM",
        "outputId": "be3b4b81-a988-4552-f1e0-4eabe9d1ccea"
      },
      "execution_count": 717,
      "outputs": [
        {
          "output_type": "display_data",
          "data": {
            "text/plain": [
              "<Figure size 640x480 with 1 Axes>"
            ],
            "image/png": "[encoded data removed]"
          },
          "metadata": {}
        }
      ]
    },
    {
      "cell_type": "code",
      "source": [
        "adv_ex = apply_mutation(img[0], best)"
      ],
      "metadata": {
        "id": "zIR8nvVqV-uD"
      },
      "execution_count": 718,
      "outputs": []
    },
    {
      "cell_type": "code",
      "source": [
        "pred, conf = prediction_and_confidence(adv_ex, model)"
      ],
      "metadata": {
        "id": "nyCeJghFdkhg"
      },
      "execution_count": 719,
      "outputs": []
    },
    {
      "cell_type": "code",
      "source": [
        "label_conf = image_confidence(adv_ex, model, img[1])"
      ],
      "metadata": {
        "id": "eLyqGPmNT4IZ"
      },
      "execution_count": 720,
      "outputs": []
    },
    {
      "cell_type": "code",
      "source": [
        "# Plot the array using matplotlib\n",
        "plt.imshow(adv_ex[0], cmap='gray')  # Assuming grayscale values\n",
        "plt.title(\"Predicted: \" + labels_dict[pred] + '\\nConfidence: ' + str(np.round(conf,2)) + \"\\nTrue Label Confidence: \" + str(np.round(label_conf, 2)))\n",
        "# Pixel coordinates (x, y) and radius of the circle\n",
        "y, x = best[:2]\n",
        "radius = 1\n",
        "\n",
        "# Create a Circle patch\n",
        "circle = Circle((x, y), radius, color='red', fill=False)\n",
        "\n",
        "# Add the Circle patch to the plot\n",
        "plt.gca().add_patch(circle)\n",
        "plt.axis('off')  # Turn off axis\n",
        "plt.show()"
      ],
      "metadata": {
        "colab": {
          "base_uri": "https://localhost:8080/",
          "height": 470
        },
        "id": "f00aZAeHJhqc",
        "outputId": "892cfcf4-1414-4e57-acf0-da5b649e8e59"
      },
      "execution_count": 721,
      "outputs": [
        {
          "output_type": "display_data",
          "data": {
            "text/plain": [
              "<Figure size 640x480 with 1 Axes>"
            ],
            "image/png": "[encoded data removed]"
          },
          "metadata": {}
        }
      ]
    },
    {
      "cell_type": "code",
      "source": [],
      "metadata": {
        "id": "Q7f3wXZsfY9Y"
      },
      "execution_count": null,
      "outputs": []
    }
  ]
}